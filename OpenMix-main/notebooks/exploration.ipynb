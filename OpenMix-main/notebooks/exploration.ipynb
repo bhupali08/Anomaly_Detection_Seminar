{
 "cells": [
  {
   "cell_type": "code",
   "execution_count": 1,
   "metadata": {},
   "outputs": [],
   "source": [
    "import numpy as np\n",
    "import pandas as pd \n",
    "import matplotlib.pyplot as plt "
   ]
  },
  {
   "cell_type": "code",
   "execution_count": 2,
   "metadata": {},
   "outputs": [],
   "source": [
    "df = pd.read_csv(r'C:\\\\Users\\\\HP\\\\Anomaly_Project_1\\\\OpenMix-main\\\\output\\\\cifar10_res110_OpenMix_manifold\\\\logs.csv')"
   ]
  },
  {
   "cell_type": "code",
   "execution_count": 3,
   "metadata": {},
   "outputs": [
    {
     "data": {
      "text/html": [
       "<div>\n",
       "<style scoped>\n",
       "    .dataframe tbody tr th:only-of-type {\n",
       "        vertical-align: middle;\n",
       "    }\n",
       "\n",
       "    .dataframe tbody tr th {\n",
       "        vertical-align: top;\n",
       "    }\n",
       "\n",
       "    .dataframe thead th {\n",
       "        text-align: right;\n",
       "    }\n",
       "</style>\n",
       "<table border=\"1\" class=\"dataframe\">\n",
       "  <thead>\n",
       "    <tr style=\"text-align: right;\">\n",
       "      <th></th>\n",
       "      <th>24.0</th>\n",
       "      <th>760.82</th>\n",
       "      <th>336.28</th>\n",
       "      <th>80.19</th>\n",
       "      <th>49.7</th>\n",
       "      <th>25.41</th>\n",
       "      <th>80.2</th>\n",
       "      <th>50.24</th>\n",
       "      <th>45.19</th>\n",
       "      <th>118.97</th>\n",
       "    </tr>\n",
       "  </thead>\n",
       "  <tbody>\n",
       "    <tr>\n",
       "      <th>0</th>\n",
       "      <td>7.21</td>\n",
       "      <td>96.18</td>\n",
       "      <td>44.77</td>\n",
       "      <td>8.32</td>\n",
       "      <td>12.16</td>\n",
       "      <td>10.69</td>\n",
       "      <td>6.55</td>\n",
       "      <td>14.41</td>\n",
       "      <td>16.44</td>\n",
       "      <td>17.84</td>\n",
       "    </tr>\n",
       "  </tbody>\n",
       "</table>\n",
       "</div>"
      ],
      "text/plain": [
       "   24.0  760.82  336.28  80.19   49.7  25.41  80.2  50.24  45.19  118.97\n",
       "0  7.21   96.18   44.77   8.32  12.16  10.69  6.55  14.41  16.44   17.84"
      ]
     },
     "execution_count": 3,
     "metadata": {},
     "output_type": "execute_result"
    }
   ],
   "source": [
    "df.head()"
   ]
  },
  {
   "cell_type": "code",
   "execution_count": null,
   "metadata": {},
   "outputs": [],
   "source": []
  }
 ],
 "metadata": {
  "kernelspec": {
   "display_name": "anomaly_project",
   "language": "python",
   "name": "python3"
  },
  "language_info": {
   "codemirror_mode": {
    "name": "ipython",
    "version": 3
   },
   "file_extension": ".py",
   "mimetype": "text/x-python",
   "name": "python",
   "nbconvert_exporter": "python",
   "pygments_lexer": "ipython3",
   "version": "3.8.19"
  }
 },
 "nbformat": 4,
 "nbformat_minor": 2
}
